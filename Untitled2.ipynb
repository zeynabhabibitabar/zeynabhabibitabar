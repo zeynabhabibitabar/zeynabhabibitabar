{
  "cells": [
    {
      "cell_type": "markdown",
      "metadata": {
        "id": "view-in-github",
        "colab_type": "text"
      },
      "source": [
        "<a href=\"https://colab.research.google.com/github/zeynabhabibitabar/zeynabhabibitabar/blob/main/Untitled2.ipynb\" target=\"_parent\"><img src=\"https://colab.research.google.com/assets/colab-badge.svg\" alt=\"Open In Colab\"/></a>"
      ]
    },
    {
      "cell_type": "code",
      "execution_count": null,
      "metadata": {
        "colab": {
          "base_uri": "https://localhost:8080/"
        },
        "id": "JvYbTRfT39PP",
        "outputId": "84cfa8cc-20c6-4c5b-a186-95d3db29aa9e"
      },
      "outputs": [
        {
          "name": "stdout",
          "output_type": "stream",
          "text": [
            "1\n",
            "2\n",
            "4\n",
            "5\n",
            "7\n",
            "8\n"
          ]
        }
      ],
      "source": [
        "for i in range(10):\n",
        "  if not i % 3:\n",
        "    continue\n",
        "  print(i)"
      ]
    },
    {
      "cell_type": "code",
      "execution_count": null,
      "metadata": {
        "colab": {
          "base_uri": "https://localhost:8080/"
        },
        "id": "dJJBeV1c46jc",
        "outputId": "a0333a71-4a6a-4ec0-a00a-96ede567fb80"
      },
      "outputs": [
        {
          "name": "stdout",
          "output_type": "stream",
          "text": [
            "0\n",
            "3\n",
            "6\n",
            "9\n"
          ]
        }
      ],
      "source": [
        "for i in range(10):\n",
        "  if i % 3:\n",
        "    continue\n",
        "  print(i)"
      ]
    },
    {
      "cell_type": "code",
      "execution_count": null,
      "metadata": {
        "colab": {
          "base_uri": "https://localhost:8080/"
        },
        "id": "DZDGxtoh5MFc",
        "outputId": "dd5349f4-d3a2-4156-c696-1c0d75568369"
      },
      "outputs": [
        {
          "name": "stdout",
          "output_type": "stream",
          "text": [
            "4\n",
            "5\n",
            "7\n",
            "8\n",
            "10\n",
            "11\n"
          ]
        }
      ],
      "source": [
        "i = 3\n",
        "while i < 12:\n",
        "  i += 1\n",
        "  if not i % 3:\n",
        "      continue\n",
        "  print(i)"
      ]
    },
    {
      "cell_type": "code",
      "execution_count": null,
      "metadata": {
        "colab": {
          "base_uri": "https://localhost:8080/"
        },
        "id": "Hmk6nTpD6TOt",
        "outputId": "c9e6d7e1-0d85-47fc-ee7b-1375fb5e9921"
      },
      "outputs": [
        {
          "name": "stdout",
          "output_type": "stream",
          "text": [
            "3\n",
            "6\n",
            "9\n",
            "12\n"
          ]
        }
      ],
      "source": [
        "i = 2\n",
        "while i < 12:\n",
        "  i += 1\n",
        "  if i % 3:\n",
        "      continue\n",
        "  print(i)"
      ]
    },
    {
      "cell_type": "code",
      "execution_count": null,
      "metadata": {
        "colab": {
          "base_uri": "https://localhost:8080/"
        },
        "id": "i4rxuL_06YDG",
        "outputId": "ee2fef5c-f9c2-4887-b220-2cbb7754cefb"
      },
      "outputs": [
        {
          "name": "stdout",
          "output_type": "stream",
          "text": [
            "4\n",
            "5\n"
          ]
        }
      ],
      "source": [
        "i = 3\n",
        "while i < 12:\n",
        "  i += 1\n",
        "  if not i % 3:\n",
        "      break\n",
        "  print(i)"
      ]
    },
    {
      "cell_type": "code",
      "execution_count": null,
      "metadata": {
        "colab": {
          "base_uri": "https://localhost:8080/"
        },
        "id": "gxN3BJCd6fvZ",
        "outputId": "c48a4ec8-a050-4936-bbc8-89bf8fa595b7"
      },
      "outputs": [
        {
          "name": "stdout",
          "output_type": "stream",
          "text": [
            "3\n"
          ]
        }
      ],
      "source": [
        "i = 2\n",
        "while i < 12:\n",
        "  i += 1\n",
        "  if i % 3:\n",
        "      break\n",
        "  print(i)"
      ]
    },
    {
      "cell_type": "code",
      "execution_count": null,
      "metadata": {
        "colab": {
          "base_uri": "https://localhost:8080/"
        },
        "id": "cneRJSeO8uo5",
        "outputId": "e47b6b23-86e1-488b-ea57-bcaa249edb12"
      },
      "outputs": [
        {
          "name": "stdout",
          "output_type": "stream",
          "text": [
            "hi, your welcom to my page john\n"
          ]
        }
      ],
      "source": [
        "def greet(name):\n",
        "  print(f'hi, your welcom to my page {name}')\n",
        "greet('john')\n"
      ]
    },
    {
      "cell_type": "code",
      "execution_count": null,
      "metadata": {
        "colab": {
          "base_uri": "https://localhost:8080/"
        },
        "id": "INCHey989wxd",
        "outputId": "b868fbe4-1757-4266-8783-367cd522999c"
      },
      "outputs": [
        {
          "name": "stdout",
          "output_type": "stream",
          "text": [
            "enter your name : dd\n",
            "hi, your welcom to my page dd\n",
            "dd, please say me about your self\n"
          ]
        }
      ],
      "source": [
        "def greet(name):\n",
        "  name = input('enter your name : ')\n",
        "  print(f'hi, your welcom to my page {name}')\n",
        "  print(f'{name}, please say me about your self')\n",
        "greet(name)\n"
      ]
    },
    {
      "cell_type": "code",
      "execution_count": null,
      "metadata": {
        "colab": {
          "base_uri": "https://localhost:8080/"
        },
        "id": "HkLkvkp7AMj4",
        "outputId": "46f3cc10-9377-4055-e11f-b0ca0bad2fdd"
      },
      "outputs": [
        {
          "name": "stdout",
          "output_type": "stream",
          "text": [
            "enter your name : ff\n",
            "hi, your welcom to my page ff\n",
            "ff, please say me about your self\n"
          ]
        }
      ],
      "source": [
        "greet(name)"
      ]
    },
    {
      "cell_type": "code",
      "execution_count": null,
      "metadata": {
        "colab": {
          "base_uri": "https://localhost:8080/"
        },
        "id": "nqwFcIoGBHwV",
        "outputId": "5cdeed85-8a8b-48c3-8b62-a7c8c261c7fc"
      },
      "outputs": [
        {
          "name": "stdout",
          "output_type": "stream",
          "text": [
            "enter your name : ugjhj\n",
            "hi, your welcom to my page ugjhj\n",
            "ugjhj, please say me about your self\n"
          ]
        }
      ],
      "source": [
        "def greet(name):\n",
        "  name = input('enter your name : ')\n",
        "  print(f'hi, your welcom to my page {name}')\n",
        "  print(f'{name}, please say me about your self')\n",
        "greet(name)"
      ]
    },
    {
      "cell_type": "code",
      "execution_count": null,
      "metadata": {
        "colab": {
          "base_uri": "https://localhost:8080/"
        },
        "id": "JOtR-zwgBr0V",
        "outputId": "e25a81e9-0164-4414-a5ef-4ecb383fa523"
      },
      "outputs": [
        {
          "name": "stdout",
          "output_type": "stream",
          "text": [
            "enter your name : hbb\n",
            "hi, your welcom to my page hbb\n",
            "hbb, please say me about your self\n"
          ]
        }
      ],
      "source": [
        "greet(name)"
      ]
    },
    {
      "cell_type": "code",
      "execution_count": null,
      "metadata": {
        "colab": {
          "base_uri": "https://localhost:8080/"
        },
        "id": "RMMkVYd1CdHo",
        "outputId": "1b7dc073-dabe-400a-cafb-c866e363512e"
      },
      "outputs": [
        {
          "name": "stdout",
          "output_type": "stream",
          "text": [
            "30\n"
          ]
        }
      ],
      "source": [
        "def sum(a,b):\n",
        "  return a+b\n",
        "total = sum(10, 20)\n",
        "print(total)"
      ]
    },
    {
      "cell_type": "code",
      "execution_count": null,
      "metadata": {
        "colab": {
          "base_uri": "https://localhost:8080/"
        },
        "id": "mV3KSUFNC3G6",
        "outputId": "a1b08cf9-2b05-4f1c-f4b6-fda751a1a967"
      },
      "outputs": [
        {
          "data": {
            "text/plain": [
              "75"
            ]
          },
          "execution_count": 70,
          "metadata": {},
          "output_type": "execute_result"
        }
      ],
      "source": [
        "sum(15,60)"
      ]
    },
    {
      "cell_type": "code",
      "execution_count": null,
      "metadata": {
        "colab": {
          "base_uri": "https://localhost:8080/"
        },
        "id": "w7DapHOVDfRM",
        "outputId": "a56c2c2b-3460-472b-ae59-e9f3c53fef87"
      },
      "outputs": [
        {
          "name": "stdout",
          "output_type": "stream",
          "text": [
            "نام خودت رو بگو : سارا\n",
            "سارا به صفحه ی من خوش آمدی لطفا سوالت رو از من بپرس تا راهنماییت کنم\n"
          ]
        }
      ],
      "source": [
        "def greet(name = input('نام خودت رو بگو : ') , message = 'به صفحه ی من خوش آمدی', hint = 'لطفا سوالت رو از من بپرس تا راهنماییت کنم'):\n",
        "    return f'{name} {message} {hint}'\n",
        "greeting = greet()\n",
        "print(greeting)"
      ]
    },
    {
      "cell_type": "code",
      "execution_count": null,
      "metadata": {
        "colab": {
          "base_uri": "https://localhost:8080/"
        },
        "id": "Dds0cdTLJ9x1",
        "outputId": "24583d8b-49ab-4b1b-c105-f2cc43e3deb0"
      },
      "outputs": [
        {
          "name": "stdout",
          "output_type": "stream",
          "text": [
            "نام خودت رو بگو : زینب\n",
            "زینب به صفحه ی من خوش آمدیم\n"
          ]
        }
      ],
      "source": [
        "def greet(name = input('نام خودت رو بگو : ') , message = 'به صفحه ی من خوش آمدیم' ):\n",
        "    return f'{name} {message}'\n",
        "greeting = greet()\n",
        "print(greeting)"
      ]
    },
    {
      "cell_type": "code",
      "execution_count": null,
      "metadata": {
        "colab": {
          "base_uri": "https://localhost:8080/"
        },
        "id": "BOFLSe89DzLv",
        "outputId": "9051dbf7-f81a-40f0-f82e-577771249f80"
      },
      "outputs": [
        {
          "name": "stdout",
          "output_type": "stream",
          "text": [
            "enter your name : hh\n",
            "hi, your welcom to my page hh\n",
            "hh, please say me about your self\n"
          ]
        }
      ],
      "source": [
        "def greet(name):\n",
        "  name = input('enter your name : ')\n",
        "  print(f'hi, your welcom to my page {name}')\n",
        "  print(f'{name}, please say me about your self')\n",
        "greet(name)"
      ]
    },
    {
      "cell_type": "code",
      "execution_count": null,
      "metadata": {
        "colab": {
          "base_uri": "https://localhost:8080/"
        },
        "id": "6rE-LNTnDuwp",
        "outputId": "5cdeed85-8a8b-48c3-8b62-a7c8c261c7fc"
      },
      "outputs": [
        {
          "name": "stdout",
          "output_type": "stream",
          "text": [
            "enter your name : ugjhj\n",
            "hi, your welcom to my page ugjhj\n",
            "ugjhj, please say me about your self\n"
          ]
        }
      ],
      "source": [
        "def greet(name):\n",
        "  name = input('enter your name : ')\n",
        "  print(f'hi, your welcom to my page {name}')\n",
        "  print(f'{name}, please say me about your self')\n",
        "greet(name)"
      ]
    },
    {
      "cell_type": "code",
      "execution_count": null,
      "metadata": {
        "colab": {
          "base_uri": "https://localhost:8080/"
        },
        "id": "w7EfFUfaDsL3",
        "outputId": "5cdeed85-8a8b-48c3-8b62-a7c8c261c7fc"
      },
      "outputs": [
        {
          "name": "stdout",
          "output_type": "stream",
          "text": [
            "enter your name : ugjhj\n",
            "hi, your welcom to my page ugjhj\n",
            "ugjhj, please say me about your self\n"
          ]
        }
      ],
      "source": [
        "def greet(name):\n",
        "  name = input('enter your name : ')\n",
        "  print(f'hi, your welcom to my page {name}')\n",
        "  print(f'{name}, please say me about your self')\n",
        "greet(name)"
      ]
    },
    {
      "cell_type": "code",
      "execution_count": null,
      "metadata": {
        "colab": {
          "base_uri": "https://localhost:8080/"
        },
        "id": "xt057kDjjSzq",
        "outputId": "8d7240d0-6bcb-429d-ab41-c1d5905d012e"
      },
      "outputs": [
        {
          "output_type": "stream",
          "name": "stdout",
          "text": [
            "[1 2 3 4]\n",
            "[[0 1]\n",
            " [2 3]]\n",
            "[[[0 1]\n",
            "  [2 3]]\n",
            "\n",
            " [[2 5]\n",
            "  [6 8]]]\n"
          ]
        }
      ],
      "source": [
        "import numpy as np\n",
        "a = np.array([1,2,3,4])\n",
        "b = np.array([[0,1],[2,3]])\n",
        "c = np.array([[[0,1],[2,3]],[[2,5],[6,8]]])\n",
        "\n",
        "print(a)\n",
        "print(b)\n",
        "print(c)"
      ]
    },
    {
      "cell_type": "code",
      "source": [
        "def get_net_price(price , disscount):\n",
        "  price = int(input('please give me the price: '))\n",
        "  return price * (1-disscount)\n",
        "print(net_price)\n"
      ],
      "metadata": {
        "colab": {
          "base_uri": "https://localhost:8080/"
        },
        "id": "aELs5B5F4X7R",
        "outputId": "776ab828-9dd3-480e-91b1-4ef20a732937"
      },
      "execution_count": null,
      "outputs": [
        {
          "output_type": "stream",
          "name": "stdout",
          "text": [
            "17999.100000000002\n"
          ]
        }
      ]
    },
    {
      "cell_type": "code",
      "source": [
        "\n",
        "net_price = get_net_price(price= int(input('please give me the price: ')), discount= float(input('please give me the rate of discount: ')))\n",
        "print(net_price)"
      ],
      "metadata": {
        "colab": {
          "base_uri": "https://localhost:8080/",
          "height": 142
        },
        "id": "v3NX1HOI4JAI",
        "outputId": "7407723b-75a5-42d5-ebdb-4ef01b9f7688"
      },
      "execution_count": null,
      "outputs": [
        {
          "output_type": "error",
          "ename": "SyntaxError",
          "evalue": "ignored",
          "traceback": [
            "\u001b[0;36m  File \u001b[0;32m\"<ipython-input-16-e1efbde51707>\"\u001b[0;36m, line \u001b[0;32m1\u001b[0m\n\u001b[0;31m    def\u001b[0m\n\u001b[0m       ^\u001b[0m\n\u001b[0;31mSyntaxError\u001b[0m\u001b[0;31m:\u001b[0m invalid syntax\n"
          ]
        }
      ]
    },
    {
      "cell_type": "code",
      "source": [],
      "metadata": {
        "id": "nWfRG1JIAolo"
      },
      "execution_count": null,
      "outputs": []
    },
    {
      "cell_type": "code",
      "source": [
        "import numpy as np\n"
      ],
      "metadata": {
        "id": "gRlzTZe6HWiM"
      },
      "execution_count": 1,
      "outputs": []
    },
    {
      "cell_type": "code",
      "source": [
        "arr = np.array([1,2,3,4,7])\n",
        "print(arr)"
      ],
      "metadata": {
        "colab": {
          "base_uri": "https://localhost:8080/"
        },
        "id": "vSP46-KNIQYF",
        "outputId": "2a8bfc09-abc9-4c9b-fa82-cbb6a625e60f"
      },
      "execution_count": 7,
      "outputs": [
        {
          "output_type": "stream",
          "name": "stdout",
          "text": [
            "[1 2 3 4 7]\n"
          ]
        }
      ]
    },
    {
      "cell_type": "code",
      "source": [
        "np.array([1,2,3,4,7])"
      ],
      "metadata": {
        "colab": {
          "base_uri": "https://localhost:8080/"
        },
        "id": "qSXji-soI9Yl",
        "outputId": "6df47051-cb64-4ea4-a0ab-47b1eee57985"
      },
      "execution_count": 8,
      "outputs": [
        {
          "output_type": "execute_result",
          "data": {
            "text/plain": [
              "array([1, 2, 3, 4, 7])"
            ]
          },
          "metadata": {},
          "execution_count": 8
        }
      ]
    },
    {
      "cell_type": "code",
      "source": [
        "np.array([[[1,2],[3,4]],[[4,7],[5,9]]])"
      ],
      "metadata": {
        "colab": {
          "base_uri": "https://localhost:8080/"
        },
        "id": "Vnk7ZDAFKd_P",
        "outputId": "7aa17598-8dd5-4247-c760-fb279ed75b7e"
      },
      "execution_count": 23,
      "outputs": [
        {
          "output_type": "execute_result",
          "data": {
            "text/plain": [
              "array([[[1, 2],\n",
              "        [3, 4]],\n",
              "\n",
              "       [[4, 7],\n",
              "        [5, 9]]])"
            ]
          },
          "metadata": {},
          "execution_count": 23
        }
      ]
    },
    {
      "cell_type": "code",
      "source": [
        "np.ones((2,3,2))"
      ],
      "metadata": {
        "colab": {
          "base_uri": "https://localhost:8080/"
        },
        "id": "o1sbEu4FI4nt",
        "outputId": "a13fb3c0-6cae-4580-ffff-b7ab40675659"
      },
      "execution_count": 19,
      "outputs": [
        {
          "output_type": "execute_result",
          "data": {
            "text/plain": [
              "array([[[1., 1.],\n",
              "        [1., 1.],\n",
              "        [1., 1.]],\n",
              "\n",
              "       [[1., 1.],\n",
              "        [1., 1.],\n",
              "        [1., 1.]]])"
            ]
          },
          "metadata": {},
          "execution_count": 19
        }
      ]
    },
    {
      "cell_type": "code",
      "source": [
        "np.empty((6,5,2))"
      ],
      "metadata": {
        "colab": {
          "base_uri": "https://localhost:8080/"
        },
        "id": "Ph9E7e79LXqn",
        "outputId": "7d38dc97-1411-4fb3-c742-f228e098e173"
      },
      "execution_count": 57,
      "outputs": [
        {
          "output_type": "execute_result",
          "data": {
            "text/plain": [
              "array([[[ 4.90069178e-310,  0.00000000e+000],\n",
              "        [ 1.78005909e-306,  4.22982345e-307],\n",
              "        [ 1.02605555e-307,  9.57719800e+199],\n",
              "        [ 1.81996799e+214,  1.47116729e-307],\n",
              "        [-3.38460731e+125,  1.43293789e+161]],\n",
              "\n",
              "       [[ 3.40605788e-309,  1.28596556e+214],\n",
              "        [ 2.37181197e+213,  8.19763873e-019],\n",
              "        [ 2.02577199e+242,  4.47868432e-310],\n",
              "        [ 1.43229092e+089,  1.26142703e-312],\n",
              "        [ 5.04443778e+180,  3.40605788e-309]],\n",
              "\n",
              "       [[ 4.64165529e-310,  1.25215997e-319],\n",
              "        [ 1.39067116e-309,  9.73469813e-309],\n",
              "        [ 3.32653210e-111,  6.01346953e-154],\n",
              "        [ 5.28562648e+180,  1.27734658e-152],\n",
              "        [ 2.31634000e-152,  1.99556499e+161]],\n",
              "\n",
              "       [[ 1.46921998e+195,  5.04443778e+180],\n",
              "        [ 4.95233263e+223,  1.02189869e-152],\n",
              "        [ 3.81391472e+180,  5.98150366e-154],\n",
              "        [ 1.14986388e-316,  7.29112202e-304],\n",
              "        [ 3.62604445e-217,  6.46131464e-313]],\n",
              "\n",
              "       [[ 1.45276481e-296,  1.16668989e-301],\n",
              "        [ 4.20746155e-297,  5.08887758e+074],\n",
              "        [ 1.02605810e-307, -3.38460717e+125],\n",
              "        [ 1.12319300e+219,  1.12313267e+219],\n",
              "        [ 3.56544846e-057,  4.10421827e-307]],\n",
              "\n",
              "       [[ 1.33360318e+241,  4.58733050e-310],\n",
              "        [ 6.18740021e-309,  8.36613601e-085],\n",
              "        [ 6.34916430e+151,  6.68926468e+151],\n",
              "        [ 3.81391472e+180,  5.35101039e+228],\n",
              "        [ 2.37174397e+213,  3.68428054e-027]]])"
            ]
          },
          "metadata": {},
          "execution_count": 57
        }
      ]
    },
    {
      "cell_type": "code",
      "source": [
        "arr = np.array([[(1,4),(5,1),(7,5)],[(1,4),(6,1),(7,2)]])\n",
        "\n",
        "print(f' arr = {arr}')\n",
        "print(\"---------\")\n",
        "print(f' arr = {arr[0:2, 2]}')\n",
        "b = arr.dtype\n",
        "c= arr.shape\n",
        "e= arr.size\n",
        "d= arr.ndim\n",
        "f = arr.reshape(3,2,2)\n",
        "h = arr.ravel()\n",
        "print(\"---------\")\n",
        "print(f' type arr = {b}')\n",
        "print(f' shape arr = {c}')\n",
        "print(f' size arr = {e}')\n",
        "print(f' ndim arr = {d}')\n",
        "print(\"---------\")\n",
        "print(f' reshape arr = {f}')\n",
        "print(\"---------\")\n",
        "print(f' ravel arr = {h}')"
      ],
      "metadata": {
        "colab": {
          "base_uri": "https://localhost:8080/"
        },
        "id": "MmzKqGNNdA0v",
        "outputId": "ec6470ae-1233-4c43-a8fe-c5e8a02d3967"
      },
      "execution_count": 139,
      "outputs": [
        {
          "output_type": "stream",
          "name": "stdout",
          "text": [
            " arr = [[[1 4]\n",
            "  [5 1]\n",
            "  [7 5]]\n",
            "\n",
            " [[1 4]\n",
            "  [6 1]\n",
            "  [7 2]]]\n",
            "---------\n",
            " arr = [[7 5]\n",
            " [7 2]]\n",
            "---------\n",
            " type arr = int64\n",
            " shape arr = (2, 3, 2)\n",
            " size arr = 12\n",
            " ndim arr = 3\n",
            "---------\n",
            " reshape arr = [[[1 4]\n",
            "  [5 1]]\n",
            "\n",
            " [[7 5]\n",
            "  [1 4]]\n",
            "\n",
            " [[6 1]\n",
            "  [7 2]]]\n",
            "---------\n",
            " ravel arr = [1 4 5 1 7 5 1 4 6 1 7 2]\n"
          ]
        }
      ]
    },
    {
      "cell_type": "code",
      "source": [
        "arr = np.array([(1,4),(5,1),(7,2)])\n",
        "b = arr.dtype\n",
        "c= arr.shape\n",
        "e= arr.size\n",
        "d= arr.ndim\n",
        "f = arr.reshape(2,3)\n",
        "print(f' arr = {arr}')\n",
        "print(\"---------\")\n",
        "print(f' type arr = {b}')\n",
        "print(f' shape arr = {c}')\n",
        "print(f' size arr = {e}')\n",
        "print(f' ndim arr = {d}')\n",
        "print(\"---------\")\n",
        "print(f' reshape arr = {f}')\n"
      ],
      "metadata": {
        "colab": {
          "base_uri": "https://localhost:8080/"
        },
        "id": "0H28t_AodU05",
        "outputId": "ac949637-20ac-4b6f-bcd6-e10ff79b5302"
      },
      "execution_count": 134,
      "outputs": [
        {
          "output_type": "stream",
          "name": "stdout",
          "text": [
            " arr = [[1 4]\n",
            " [5 1]\n",
            " [7 2]]\n",
            "---------\n",
            " type arr = int64\n",
            " shape arr = (3, 2)\n",
            " size arr = 6\n",
            " ndim arr = 2\n",
            "---------\n",
            " reshape arr = [[1 4 5]\n",
            " [1 7 2]]\n"
          ]
        }
      ]
    },
    {
      "cell_type": "code",
      "source": [
        "arr1=([[1,5],[6,7]])\n",
        "arr2=([[2,3],[8,4]])\n",
        "result = np.concatenate([arr1,arr2],1)\n",
        "print(result)"
      ],
      "metadata": {
        "colab": {
          "base_uri": "https://localhost:8080/"
        },
        "id": "SD_Ec2HcniNP",
        "outputId": "72300f4b-9c6e-436f-87c1-d79e9ae0babd"
      },
      "execution_count": 107,
      "outputs": [
        {
          "output_type": "stream",
          "name": "stdout",
          "text": [
            "[[1 5 2 3]\n",
            " [6 7 8 4]]\n"
          ]
        }
      ]
    },
    {
      "cell_type": "code",
      "source": [
        "arr1=([[1,5],[6,7]])\n",
        "arr2=([[2,3],[8,4]])\n",
        "result = np.concatenate([arr1,arr2],0)\n",
        "print(result)"
      ],
      "metadata": {
        "colab": {
          "base_uri": "https://localhost:8080/"
        },
        "id": "3O2Td7zrok4M",
        "outputId": "c060c1ea-126f-4290-ec8c-70e9492d6d7b"
      },
      "execution_count": 109,
      "outputs": [
        {
          "output_type": "stream",
          "name": "stdout",
          "text": [
            "[[1 5]\n",
            " [6 7]\n",
            " [2 3]\n",
            " [8 4]]\n"
          ]
        }
      ]
    },
    {
      "cell_type": "code",
      "source": [
        "arr1=([[[1,5],[6,7]],[[7,6],[3,3]]])\n",
        "arr2=([[[2,3],[8,4]],[[9,1],[0,4]]])\n",
        "result = np.concatenate([arr1,arr2],2)\n",
        "print(result)"
      ],
      "metadata": {
        "colab": {
          "base_uri": "https://localhost:8080/"
        },
        "id": "EJifbU0KotnB",
        "outputId": "e16ef06c-3867-4e86-f2f5-a5bdfd5ba5d2"
      },
      "execution_count": 117,
      "outputs": [
        {
          "output_type": "stream",
          "name": "stdout",
          "text": [
            "[[[1 5 2 3]\n",
            "  [6 7 8 4]]\n",
            "\n",
            " [[7 6 9 1]\n",
            "  [3 3 0 4]]]\n"
          ]
        }
      ]
    },
    {
      "cell_type": "code",
      "source": [
        "arr.copy()"
      ],
      "metadata": {
        "colab": {
          "base_uri": "https://localhost:8080/"
        },
        "id": "mGX5q4CxowHB",
        "outputId": "1f30247a-e233-4f23-c0bd-7ebab1360d77"
      },
      "execution_count": 124,
      "outputs": [
        {
          "output_type": "execute_result",
          "data": {
            "text/plain": [
              "[[[1, 5], [6, 7]], [[7, 6], [3, 3]]]"
            ]
          },
          "metadata": {},
          "execution_count": 124
        }
      ]
    },
    {
      "cell_type": "code",
      "source": [
        "arr.transpose()"
      ],
      "metadata": {
        "colab": {
          "base_uri": "https://localhost:8080/"
        },
        "id": "vUMyEiCArDqF",
        "outputId": "a2daea51-6df4-4539-92a5-2d5c5958d076"
      },
      "execution_count": 128,
      "outputs": [
        {
          "output_type": "execute_result",
          "data": {
            "text/plain": [
              "array([[[1, 1],\n",
              "        [5, 6],\n",
              "        [7, 7]],\n",
              "\n",
              "       [[4, 4],\n",
              "        [1, 1],\n",
              "        [5, 2]]])"
            ]
          },
          "metadata": {},
          "execution_count": 128
        }
      ]
    },
    {
      "cell_type": "code",
      "source": [
        "a = np.array([1,4,6,78,3])\n",
        "print(f'min [a] = {a.min()}')\n",
        "print(f'max [a] = {a.max()}')\n",
        "print(f'sum [a] = {a.sum()}')\n",
        "print(f'sqrt [a] = {np.sqrt(a)}')\n",
        "print(f'mean [a] = {np.mean(a)}')\n",
        "print(f'var [a] = {np.var(a)}')\n",
        "print(f'std [a] = {np.std(a)}')\n"
      ],
      "metadata": {
        "colab": {
          "base_uri": "https://localhost:8080/"
        },
        "id": "h6Hx5dcG20vU",
        "outputId": "3cdda0c4-61d7-479d-871b-633e414bd561"
      },
      "execution_count": 24,
      "outputs": [
        {
          "output_type": "stream",
          "name": "stdout",
          "text": [
            "min [a] = 1\n",
            "max [a] = 78\n",
            "sum [a] = 92\n",
            "sqrt [a] = [1.         2.         2.44948974 8.83176087 1.73205081]\n",
            "mean [a] = 18.4\n",
            "var [a] = 890.64\n",
            "std [a] = 29.84359227707013\n"
          ]
        }
      ]
    },
    {
      "cell_type": "code",
      "source": [
        "a=[2,4,4,5,5,5,5,6,6,6,6,6,7,8,8,8,8,10,11,11,11,11,11]\n",
        "mean = print(np.mean(a))\n"
      ],
      "metadata": {
        "colab": {
          "base_uri": "https://localhost:8080/"
        },
        "id": "evPCnouNNUkJ",
        "outputId": "cc6e1023-aff2-4821-e3aa-1d9e7c283d1f"
      },
      "execution_count": 18,
      "outputs": [
        {
          "output_type": "stream",
          "name": "stdout",
          "text": [
            "7.130434782608695\n"
          ]
        }
      ]
    },
    {
      "cell_type": "code",
      "source": [
        "b= np.array([2,4,4,5,5,5,5,6,6,6,6,6,7,8,8,8,8,10,11,11,11,11,11])\n",
        "print(f'mean [b] = {round(np.mean(b))}')\n"
      ],
      "metadata": {
        "colab": {
          "base_uri": "https://localhost:8080/"
        },
        "id": "9jkKhkIlOPvg",
        "outputId": "0f053c16-40c4-4b2e-c28d-edcb3c9c5d6b"
      },
      "execution_count": 22,
      "outputs": [
        {
          "output_type": "stream",
          "name": "stdout",
          "text": [
            "mean [b] = 7\n"
          ]
        }
      ]
    },
    {
      "cell_type": "code",
      "source": [
        "a.copy()"
      ],
      "metadata": {
        "colab": {
          "base_uri": "https://localhost:8080/"
        },
        "id": "6z3Np1yH5Boi",
        "outputId": "3ab1828d-2b22-41c7-d88b-942ec4ef420b"
      },
      "execution_count": 152,
      "outputs": [
        {
          "output_type": "execute_result",
          "data": {
            "text/plain": [
              "array([ 1,  4,  6, 78,  3])"
            ]
          },
          "metadata": {},
          "execution_count": 152
        }
      ]
    },
    {
      "cell_type": "code",
      "source": [
        "print(f' کمترین [a] = {a.min()}')\n",
        "print(\"---------\")\n",
        "print(f'بیشترین [a] = {a.max()}')\n",
        "print(\"---------\")\n",
        "print(f'مجموع [a] = {a.sum()}')\n",
        "print(\"---------\")\n",
        "print(f'میانگین [a] = {np.mean(a)}')\n",
        "print(\"---------\")\n",
        "print(f'چارک ها [a] = {np.sqrt(a)}')\n",
        "print(\"---------\")\n",
        "print(f'انحراف از معیار [a] = {np.std(a)}')\n"
      ],
      "metadata": {
        "colab": {
          "base_uri": "https://localhost:8080/"
        },
        "id": "hII7zWPW5H62",
        "outputId": "e0684901-ec6f-496a-f796-355ab4c50e62"
      },
      "execution_count": 154,
      "outputs": [
        {
          "output_type": "stream",
          "name": "stdout",
          "text": [
            " کمترین [a] = 1\n",
            "---------\n",
            "بیشترین [a] = 78\n",
            "---------\n",
            "مجموع [a] = 92\n",
            "---------\n",
            "میانگین [a] = 18.4\n",
            "---------\n",
            "چارک ها [a] = [1.         2.         2.44948974 8.83176087 1.73205081]\n",
            "---------\n",
            "انحراف از معیار [a] = 29.84359227707013\n"
          ]
        }
      ]
    },
    {
      "cell_type": "code",
      "source": [
        "import numpy as np\n",
        "coeffs = np.array([[2,3],[6,5]])\n",
        "consts = np.array([6,7])\n",
        "solution = np.linalg.solve(coeffs,consts)\n",
        "print(f'coeffs = {coeffs}')\n",
        "print(f'consts = {consts}')\n",
        "print('---------------')\n",
        "print(f' solution for this question is = {solution}')"
      ],
      "metadata": {
        "colab": {
          "base_uri": "https://localhost:8080/"
        },
        "id": "XxwkixHB6y6n",
        "outputId": "c6ff1f00-07ac-4315-d449-9ffc6b1d167a"
      },
      "execution_count": 159,
      "outputs": [
        {
          "output_type": "stream",
          "name": "stdout",
          "text": [
            "coeffs = [[2 3]\n",
            " [6 5]]\n",
            "consts = [6 7]\n",
            "---------------\n",
            " solution for this question is = [-1.125  2.75 ]\n"
          ]
        }
      ]
    },
    {
      "cell_type": "code",
      "source": [
        "import numpy as np\n",
        "from scipy.linalg import solve\n",
        "coeffs = np.array([[2,3],[6,5]])\n",
        "consts = np.array([6,7])\n",
        "solution = solve(coeffs,consts)\n",
        "print(f'coeffs = {coeffs}')\n",
        "print(f'consts = {consts}')\n",
        "print('---------------')\n",
        "print(f' solution for this question is = {solution}')"
      ],
      "metadata": {
        "colab": {
          "base_uri": "https://localhost:8080/"
        },
        "id": "ax-97-B_0vDW",
        "outputId": "62a3b325-f3b9-46f1-c2ee-c44f12eb64d5"
      },
      "execution_count": 4,
      "outputs": [
        {
          "output_type": "stream",
          "name": "stdout",
          "text": [
            "coeffs = [[2 3]\n",
            " [6 5]]\n",
            "consts = [6 7]\n",
            "---------------\n",
            " solution for this question is = [-1.125  2.75 ]\n"
          ]
        }
      ]
    },
    {
      "cell_type": "code",
      "source": [
        "from sympy import symbols, Eq, solve\n",
        "x,y = symbols('x y')\n",
        "eq1 = Eq(2*x+3*y, 6)\n",
        "eq2 = Eq(6*x+5*y,7)\n",
        "solution = solve((eq1,eq2),(x,y))\n",
        "print(f'Eq1 = {eq1}')\n",
        "print(f'Eq2 = {eq2}')\n",
        "print('---------------')\n",
        "print(f' solution for this question is = {solution}')\n"
      ],
      "metadata": {
        "colab": {
          "base_uri": "https://localhost:8080/"
        },
        "id": "uFlY0mDH3mNR",
        "outputId": "3fea7539-f70e-4db8-921b-11a77b33b632"
      },
      "execution_count": 11,
      "outputs": [
        {
          "output_type": "stream",
          "name": "stdout",
          "text": [
            "Eq1 = Eq(2*x + 3*y, 6)\n",
            "Eq2 = Eq(6*x + 5*y, 7)\n",
            "---------------\n",
            " solution for this question is = {x: -9/8, y: 11/4}\n"
          ]
        }
      ]
    },
    {
      "cell_type": "code",
      "source": [
        "import numpy as np\n",
        "matrix = np.array([[2,3],[6,5]])\n",
        "eigenvalues, eigenvectors = np.linalg.eig(matrix)\n",
        "print(f'eigenvalues= {eigenvalues}')\n",
        "print('-------')\n",
        "print(f'eigenvectors = {eigenvectors}')"
      ],
      "metadata": {
        "colab": {
          "base_uri": "https://localhost:8080/"
        },
        "id": "AFoMzGw38d5e",
        "outputId": "8e018fb8-39ae-4519-e092-66319d76c022"
      },
      "execution_count": 14,
      "outputs": [
        {
          "output_type": "stream",
          "name": "stdout",
          "text": [
            "eigenvalues= [-1.  8.]\n",
            "-------\n",
            "eigenvectors = [[-0.70710678 -0.4472136 ]\n",
            " [ 0.70710678 -0.89442719]]\n"
          ]
        }
      ]
    },
    {
      "cell_type": "code",
      "source": [
        "import numpy as np\n",
        "matrix = np.array([[3,1],[1,2]])\n",
        "eigenvalues, eigenvectors = np.linalg.eig(matrix)\n",
        "print(f'eigenvalues= {eigenvalues}')\n",
        "print('-------')\n",
        "print(f'eigenvectors = {eigenvectors}')"
      ],
      "metadata": {
        "colab": {
          "base_uri": "https://localhost:8080/"
        },
        "id": "sanlwLzQ-2GU",
        "outputId": "ca41edf2-d5c8-495e-faa7-73bd7637cd47"
      },
      "execution_count": 15,
      "outputs": [
        {
          "output_type": "stream",
          "name": "stdout",
          "text": [
            "eigenvalues= [3.61803399 1.38196601]\n",
            "-------\n",
            "eigenvectors = [[ 0.85065081 -0.52573111]\n",
            " [ 0.52573111  0.85065081]]\n"
          ]
        }
      ]
    },
    {
      "cell_type": "code",
      "source": [],
      "metadata": {
        "id": "aqGqO5_890cO"
      },
      "execution_count": null,
      "outputs": []
    }
  ],
  "metadata": {
    "colab": {
      "provenance": [],
      "authorship_tag": "ABX9TyPII/jrGqVA//6Ka98x5G1s",
      "include_colab_link": true
    },
    "kernelspec": {
      "display_name": "Python 3",
      "name": "python3"
    },
    "language_info": {
      "name": "python"
    }
  },
  "nbformat": 4,
  "nbformat_minor": 0
}