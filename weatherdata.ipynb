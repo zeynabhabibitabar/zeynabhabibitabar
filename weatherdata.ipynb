{
  "nbformat": 4,
  "nbformat_minor": 0,
  "metadata": {
    "colab": {
      "provenance": [],
      "authorship_tag": "ABX9TyPtUJ4OTgTup6lJ4hXTl7FS",
      "include_colab_link": true
    },
    "kernelspec": {
      "name": "python3",
      "display_name": "Python 3"
    },
    "language_info": {
      "name": "python"
    }
  },
  "cells": [
    {
      "cell_type": "markdown",
      "metadata": {
        "id": "view-in-github",
        "colab_type": "text"
      },
      "source": [
        "<a href=\"https://colab.research.google.com/github/zeynabhabibitabar/zeynabhabibitabar/blob/main/weatherdata.ipynb\" target=\"_parent\"><img src=\"https://colab.research.google.com/assets/colab-badge.svg\" alt=\"Open In Colab\"/></a>"
      ]
    },
    {
      "cell_type": "code",
      "execution_count": 3,
      "metadata": {
        "id": "v-5opQivnNCw"
      },
      "outputs": [],
      "source": [
        "class WeatherData:\n",
        "    def __init__(self, date, temperature, humidity, pressure):\n",
        "        self.date = date\n",
        "        self.temperature = temperature\n",
        "        self.humidity = humidity\n",
        "        self.pressure = pressure\n",
        "\n",
        "    def get_date(self):\n",
        "        return self.date\n",
        "\n",
        "    def get_temperature(self):\n",
        "        return self.temperature\n",
        "\n",
        "    def get_humidity(self):\n",
        "        return self.humidity\n",
        "\n",
        "    def get_pressure(self):\n",
        "        return self.pressure\n",
        "\n",
        "\n",
        "class DailyWeatherData(WeatherData):\n",
        "    def __init__(self, date, temperature, humidity, pressure, sunrise, sunset):\n",
        "        super().__init__(date, temperature, humidity, pressure)\n",
        "        self.sunrise = sunrise\n",
        "        self.sunset = sunset\n",
        "\n",
        "    def get_sunrise(self):\n",
        "        return self.sunrise\n",
        "\n",
        "    def get_sunset(self):\n",
        "        return self.sunset\n",
        "\n",
        "\n",
        "class HourlyWeatherData(WeatherData):\n",
        "    def __init__(self, date, temperature, humidity, pressure, time):\n",
        "        super().__init__(date, temperature, humidity, pressure)\n",
        "        self.time = time\n",
        "\n",
        "    def get_time(self):\n",
        "        return self.time\n",
        "\n",
        "\n",
        "def average_temperature(daily_weather_data_list):\n",
        "    total_temperature = sum(data.get_temperature() for data in daily_weather_data_list)\n",
        "    return total_temperature / len(daily_weather_data_list)\n",
        "\n",
        "\n",
        "def highest_pressure(hourly_weather_data_list):\n",
        "    max_pressure_instance = max(hourly_weather_data_list, key=lambda data: data.get_pressure())\n",
        "    return max_pressure_instance"
      ]
    },
    {
      "cell_type": "code",
      "source": [],
      "metadata": {
        "id": "0OItn6qOnf_F"
      },
      "execution_count": null,
      "outputs": []
    },
    {
      "cell_type": "code",
      "source": [
        "# Create instances of DailyWeatherData\n",
        "daily_data1 = DailyWeatherData(\"2023-08-10\", 25.5, 70, 1013.2, \"06:00\", \"20:00\")\n",
        "daily_data2 = DailyWeatherData(\"2023-08-11\", 24.8, 68, 1012.5, \"06:15\", \"19:45\")\n",
        "daily_data3 = DailyWeatherData(\"2023-08-12\", 27.2, 72, 1014.1, \"06:30\", \"19:30\")\n",
        "\n",
        "# Create instances of HourlyWeatherData\n",
        "hourly_data1 = HourlyWeatherData(\"2023-08-10\", 25.0, 75, 1013.5, \"12:00\")\n",
        "hourly_data2 = HourlyWeatherData(\"2023-08-10\", 26.5, 68, 1014.8, \"13:00\")\n",
        "hourly_data3 = HourlyWeatherData(\"2023-08-10\", 24.5, 72, 1012.9, \"14:00\")\n",
        "\n",
        "# Create a list of DailyWeatherData instances\n",
        "daily_data_list = [daily_data1, daily_data2, daily_data3]\n",
        "\n",
        "# Create a list of HourlyWeatherData instances\n",
        "hourly_data_list = [hourly_data1, hourly_data2, hourly_data3]\n",
        "\n",
        "# Test the average_temperature function\n",
        "avg_temp = average_temperature(daily_data_list)\n",
        "print(\"Average Temperature:\", avg_temp)\n",
        "\n",
        "# Test the highest_pressure function\n",
        "highest_pressure_instance = highest_pressure(hourly_data_list)\n",
        "print(\"Highest Pressure Instance:\")\n",
        "print(\"Date:\", highest_pressure_instance.get_date())\n",
        "print(\"Time:\", highest_pressure_instance.get_time())\n",
        "print(\"Pressure:\", highest_pressure_instance.get_pressure())"
      ],
      "metadata": {
        "id": "ps3opQjmmNGe",
        "outputId": "53369277-293d-4c92-d0f5-e04f52a0ae0f",
        "colab": {
          "base_uri": "https://localhost:8080/"
        }
      },
      "execution_count": 5,
      "outputs": [
        {
          "output_type": "stream",
          "name": "stdout",
          "text": [
            "Average Temperature: 25.833333333333332\n",
            "Highest Pressure Instance:\n",
            "Date: 2023-08-10\n",
            "Time: 13:00\n",
            "Pressure: 1014.8\n"
          ]
        }
      ]
    },
    {
      "cell_type": "code",
      "source": [
        "samples = []\n",
        "num_samples = int(input(\"Enter the number of samples: \"))\n",
        "\n",
        "for i in range(num_samples):\n",
        "    print(f\"\\nSample {i+1}:\")\n",
        "    date = input(\"Enter the date: \")\n",
        "    temperature = float(input(\"Enter the temperature: \"))\n",
        "    humidity = float(input(\"Enter the humidity: \"))\n",
        "    pressure = float(input(\"Enter the pressure: \"))\n",
        "    time = input(\"Enter the time (for hourly data): \")\n",
        "    sunrise = input(\"Enter the sunrise time (for daily data): \")\n",
        "    sunset = input(\"Enter the sunset time (for daily data): \")\n",
        "\n",
        "    if time:\n",
        "        # Hourly weather data\n",
        "        hourly_data = HourlyWeatherData(date, temperature, humidity, pressure, time)\n",
        "        samples.append(hourly_data)\n",
        "    else:\n",
        "        # Daily weather data\n",
        "        daily_data = DailyWeatherData(date, temperature, humidity, pressure, sunrise, sunset)\n",
        "        samples.append(daily_data)\n",
        "\n",
        "# Example usage of the average_temperature and highest_pressure functions\n",
        "avg_temp = average_temperature(samples)\n",
        "print(\"Average Temperature:\", avg_temp)\n",
        "\n",
        "highest_pressure_instance = highest_pressure(samples)\n",
        "print(\"Sample with the Highest Pressure:\", highest_pressure_instance.get_pressure())"
      ],
      "metadata": {
        "colab": {
          "base_uri": "https://localhost:8080/"
        },
        "id": "TYDY-jP1oAhR",
        "outputId": "6bbf1584-b698-4966-f7ad-e16c53e7b1bf"
      },
      "execution_count": 6,
      "outputs": [
        {
          "output_type": "stream",
          "name": "stdout",
          "text": [
            "Enter the number of samples: 1\n",
            "\n",
            "Sample 1:\n",
            "Enter the date: 2009-9-8\n",
            "Enter the temperature: 45\n",
            "Enter the humidity: 760\n",
            "Enter the pressure: 677\n",
            "Enter the time (for hourly data): 7:56\n",
            "Enter the sunrise time (for daily data): 6\n",
            "Enter the sunset time (for daily data): 9\n",
            "Average Temperature: 45.0\n",
            "Sample with the Highest Pressure: 677.0\n"
          ]
        }
      ]
    }
  ]
}